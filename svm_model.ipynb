{
 "cells": [
  {
   "cell_type": "code",
   "execution_count": null,
   "metadata": {
    "vscode": {
     "languageId": "plaintext"
    }
   },
   "outputs": [],
   "source": [
    "from sklearn.preprocessing import StandardScaler, OneHotEncoder\n",
    "from sklearn.svm import SVR\n",
    "import pandas as pd\n",
    "\n",
    "# Carregar o dataset para treino\n",
    "dataset = pd.read_csv('dataset.csv')\n",
    "\n",
    "# Definir colunas categóricas\n",
    "categorical_columns = ['genero', 'estado_civil', 'zona_residencia', 'fumador', 'class_etaria']\n",
    "\n",
    "# One-hot encoding para colunas categóricas\n",
    "encoder = OneHotEncoder(sparse_output=False)\n",
    "one_hot_encoded = encoder.fit_transform(dataset[categorical_columns])\n",
    "one_hot_df = pd.DataFrame(one_hot_encoded, columns=encoder.get_feature_names_out(categorical_columns))\n",
    "dataset_encoded = pd.concat([dataset.drop(categorical_columns, axis=1), one_hot_df], axis=1)\n",
    "\n",
    "threshold = 80000\n",
    "\n",
    "outliers = dataset_encoded[(dataset_encoded['custo'] > threshold) | (dataset_encoded['imc'] < 10)]\n",
    "\n",
    "dataset_encoded = dataset_encoded[~dataset_encoded.index.isin(outliers.index)]\n",
    "\n",
    "# Separar variáveis independentes e dependente\n",
    "X = dataset_encoded.drop(columns=['custo'])\n",
    "y = dataset_encoded['custo']\n",
    "\n",
    "# Normalizar os dados independentes\n",
    "scaler_X = StandardScaler()\n",
    "X_scaled = scaler_X.fit_transform(X)\n",
    "\n",
    "# Instanciar e treinar o modelo SVM\n",
    "svm_model = SVR(C=10, degree=3, epsilon=0.1, kernel='poly', gamma=1)\n",
    "svm_model.fit(X_scaled, y)\n",
    "\n",
    "# Carregar o dataset com novas features para predição\n",
    "dataset_features = pd.read_csv('just_features.csv')\n",
    "\n",
    "# One-hot encoding para o dataset de predição\n",
    "one_hot_encoded_features = encoder.transform(dataset_features[categorical_columns])\n",
    "one_hot_df_features = pd.DataFrame(one_hot_encoded_features, columns=encoder.get_feature_names_out(categorical_columns))\n",
    "dataset_features_encoded = pd.concat([dataset_features.drop(categorical_columns, axis=1), one_hot_df_features], axis=1)\n",
    "\n",
    "# Normalizar as features de entrada\n",
    "X_scaled_features = scaler_X.transform(dataset_features_encoded)\n",
    "\n",
    "# Predições do modelo\n",
    "y_pred = svm_model.predict(X_scaled_features)\n",
    "\n",
    "dataset_features['custo'] = y_pred\n",
    "dataset_features['custo'].to_csv('grupo25custos_estimados.csv', index=False)"
   ]
  }
 ],
 "metadata": {
  "language_info": {
   "name": "python"
  }
 },
 "nbformat": 4,
 "nbformat_minor": 2
}
